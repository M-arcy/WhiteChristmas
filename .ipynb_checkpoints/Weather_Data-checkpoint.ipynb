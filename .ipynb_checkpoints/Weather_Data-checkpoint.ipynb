{
 "cells": [
  {
   "cell_type": "markdown",
   "id": "9fd0bc99-152f-4a3c-a06c-a0d581bb155b",
   "metadata": {},
   "source": [
    "### Table of Contents <a class=\"anchor\" id=\"template_toc\"></a>\n",
    "\n",
    "* [Table of Contents](#template_toc)\n",
    "    * [Page 1 - Alpha](#template_page_1)\n",
    "    * [Page 2 - Bravo](#template_page_2)\n",
    "    * [Page 3 - Charlie](#template_page_3)\n",
    "    * [Page 4 - Delta](#template_page_4)\n",
    "    * [Page 5 - Echo](#template_page_5)\n",
    "    * [Page 6 - Foxtrot](#template_page_6)\n",
    "    * [Page 7 - Golf](#template_page_7)\n",
    "    * [Page 8 - Hotel](#template_page_8)\n",
    "    * [Page 9 - India](#template_page_9)\n",
    "    * [Page 10 - Juliet](#template_page_10)\n",
    "    * [Page 11 - Kilo](#template_page_11)"
   ]
  },
  {
   "cell_type": "code",
   "execution_count": null,
   "id": "fc4b5c9d-a3dc-42a4-a65d-552a6cc0b56c",
   "metadata": {},
   "outputs": [],
   "source": []
  },
  {
   "cell_type": "markdown",
   "id": "45cb38bc-4bb4-45d3-a09c-6cfbe87a2c75",
   "metadata": {},
   "source": [
    "<hr style=\"height:10px;border-width:0;color:darkorange;background-color:darkorange\">\n",
    "\n",
    "# Page 1 - Alpha <a class=\"anchor\" id=\"template_page_1\"></a>\n",
    "\n",
    "[Back to Top](#template_toc)\n",
    "\n",
    "<hr style=\"height:10px;border-width:0;color:darkorange;background-color:darkorange\">"
   ]
  },
  {
   "cell_type": "markdown",
   "id": "2ba3940f-0073-4fdd-9f03-c4c9e0dccd40",
   "metadata": {},
   "source": [
    "project cloned\n",
    "\n",
    "README created"
   ]
  },
  {
   "cell_type": "code",
   "execution_count": null,
   "id": "5fe2363a-8cfc-46a4-b6df-cf5a9b76dc4f",
   "metadata": {},
   "outputs": [],
   "source": []
  },
  {
   "cell_type": "code",
   "execution_count": null,
   "id": "3b5b7aa6-de07-4754-83a3-63f8ac9cac53",
   "metadata": {},
   "outputs": [],
   "source": []
  },
  {
   "cell_type": "code",
   "execution_count": null,
   "id": "ceeac489-bfae-4efa-853f-a757f97540d1",
   "metadata": {},
   "outputs": [],
   "source": []
  },
  {
   "cell_type": "markdown",
   "id": "93c53b67-06e7-4902-819f-5b6947f4a298",
   "metadata": {},
   "source": [
    "Create a Python project in the IDE by doing the following:\n",
    "\n",
    "1.  Create a class with the following instance variables for your chosen location and date:\n",
    "\n",
    "•   location latitude\n",
    "\n",
    "•   location longitude\n",
    "\n",
    "•   month\n",
    "\n",
    "•   day of month\n",
    "\n",
    "•   year\n",
    "\n",
    "•   five-year average temperature on chosen date\n",
    "\n",
    "•   five-year minimum temperature on chosen date\n",
    "\n",
    "•   five-year maximum temperature on chosen date\n",
    "\n",
    "•   five-year average wind speed on chosen date\n",
    "\n",
    "•   five-year minimum wind speed on chosen date\n",
    "\n",
    "•   five-year maximum wind speed on chosen date\n",
    "\n",
    "•   five-year sum precipitation on chosen\n",
    "\n",
    "•   five-year minimum precipitation on chosen date\n",
    "\n",
    "•   five-year maximum precipitation on chosen date"
   ]
  },
  {
   "cell_type": "code",
   "execution_count": null,
   "id": "4e9388bc-aa79-4447-a17a-9e039687cfab",
   "metadata": {},
   "outputs": [],
   "source": []
  },
  {
   "cell_type": "code",
   "execution_count": null,
   "id": "bf3c698e-ff06-46cb-9725-22172420c17f",
   "metadata": {},
   "outputs": [],
   "source": []
  },
  {
   "cell_type": "markdown",
   "id": "380f03c7-e2b6-4fdc-a84d-2babb4bda267",
   "metadata": {},
   "source": [
    "<hr style=\"height:10px;border-width:0;color:darkorange;background-color:darkorange\">\n",
    "\n",
    "# Page 2 - Bravo <a class=\"anchor\" id=\"template_page_2\"></a>\n",
    "\n",
    "[Back to Top](#template_toc)\n",
    "\n",
    "<hr style=\"height:10px;border-width:0;color:darkorange;background-color:darkorange\">"
   ]
  },
  {
   "cell_type": "markdown",
   "id": "64aa2034-2322-4e9f-8aa2-60bd2aaf435d",
   "metadata": {},
   "source": [
    "2.  Write a method for each of the following daily weather variables using the \"Weather API\" web link to pull data for your chosen location and date for the most recent five years.\n",
    "\n",
    "•   mean temperature in Fahrenheit\n",
    "\n",
    "•   maximum wind speed in miles per hour (mph)\n",
    "\n",
    "•   precipitation sum in inches"
   ]
  },
  {
   "cell_type": "code",
   "execution_count": null,
   "id": "7a4823a9-44d2-4729-ad19-456cfc52bdde",
   "metadata": {},
   "outputs": [],
   "source": []
  },
  {
   "cell_type": "code",
   "execution_count": null,
   "id": "8f262d55-fbd3-4353-ba46-6a9b3b7293a9",
   "metadata": {},
   "outputs": [],
   "source": []
  },
  {
   "cell_type": "code",
   "execution_count": null,
   "id": "0b65f542-7774-4352-9a8d-98977a33812a",
   "metadata": {},
   "outputs": [],
   "source": []
  },
  {
   "cell_type": "markdown",
   "id": "9b5b0f60-50c9-40fd-8080-797990ecc7b7",
   "metadata": {},
   "source": [
    "<hr style=\"height:10px;border-width:0;color:darkorange;background-color:darkorange\">\n",
    "\n",
    "# Page 3 - Charlie <a class=\"anchor\" id=\"template_page_3\"></a>\n",
    "\n",
    "[Back to Top](#template_toc)\n",
    "\n",
    "<hr style=\"height:10px;border-width:0;color:darkorange;background-color:darkorange\">"
   ]
  },
  {
   "cell_type": "code",
   "execution_count": null,
   "id": "ffad50fe-9847-4149-ae98-90aa06f4c319",
   "metadata": {},
   "outputs": [],
   "source": []
  },
  {
   "cell_type": "code",
   "execution_count": 1,
   "id": "fa1a78bd-bb3f-464a-acc3-fafd2a941b8c",
   "metadata": {},
   "outputs": [
    {
     "name": "stdout",
     "output_type": "stream",
     "text": [
      "Note: you may need to restart the kernel to use updated packages.\n"
     ]
    }
   ],
   "source": [
    "pip freeze > requirements.txt"
   ]
  },
  {
   "cell_type": "code",
   "execution_count": null,
   "id": "bf651a0f-7c83-4419-9ef6-4dbfe889ac1f",
   "metadata": {},
   "outputs": [],
   "source": []
  }
 ],
 "metadata": {
  "kernelspec": {
   "display_name": "Python 3 (ipykernel)",
   "language": "python",
   "name": "python3"
  },
  "language_info": {
   "codemirror_mode": {
    "name": "ipython",
    "version": 3
   },
   "file_extension": ".py",
   "mimetype": "text/x-python",
   "name": "python",
   "nbconvert_exporter": "python",
   "pygments_lexer": "ipython3",
   "version": "3.10.4"
  }
 },
 "nbformat": 4,
 "nbformat_minor": 5
}
